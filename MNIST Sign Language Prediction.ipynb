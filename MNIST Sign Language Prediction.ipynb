{
 "cells": [
  {
   "cell_type": "code",
   "execution_count": 6,
   "metadata": {},
   "outputs": [],
   "source": [
    "# All import statements"
   ]
  },
  {
   "cell_type": "code",
   "execution_count": 7,
   "metadata": {},
   "outputs": [
    {
     "name": "stderr",
     "output_type": "stream",
     "text": [
      "C:\\Users\\taman01\\AppData\\Local\\Continuum\\anaconda3\\lib\\site-packages\\h5py\\__init__.py:36: FutureWarning: Conversion of the second argument of issubdtype from `float` to `np.floating` is deprecated. In future, it will be treated as `np.float64 == np.dtype(float).type`.\n",
      "  from ._conv import register_converters as _register_converters\n",
      "Using TensorFlow backend.\n"
     ]
    }
   ],
   "source": [
    "import numpy as np\n",
    "import pandas as pd\n",
    "import matplotlib.pyplot as plt\n",
    "from sklearn.model_selection import train_test_split\n",
    "from sklearn.metrics import accuracy_score\n",
    "\n",
    "#Libraries for implementing a CNN\n",
    "from keras.layers import Conv2D, Flatten, MaxPooling2D, Dense, Dropout\n",
    "from keras.models import Sequential\n",
    "from keras.utils import to_categorical"
   ]
  },
  {
   "cell_type": "code",
   "execution_count": 8,
   "metadata": {},
   "outputs": [],
   "source": [
    "# Fetching data and adding to data frames"
   ]
  },
  {
   "cell_type": "code",
   "execution_count": 10,
   "metadata": {},
   "outputs": [],
   "source": [
    "train = pd.read_csv('sign_mnist_train.csv')\n",
    "test = pd.read_csv('sign_mnist_test.csv')"
   ]
  },
  {
   "cell_type": "code",
   "execution_count": 14,
   "metadata": {},
   "outputs": [],
   "source": [
    "# Display data"
   ]
  },
  {
   "cell_type": "code",
   "execution_count": 15,
   "metadata": {},
   "outputs": [],
   "source": [
    "labels = train.pop('label')  #Pops the label column and stores in 'labels'\n",
    "labels = to_categorical(labels)\n",
    "train = train.values\n",
    "train = np.array([np.reshape(i, (28,28)) for i in train])\n",
    "train = train / 255"
   ]
  },
  {
   "cell_type": "code",
   "execution_count": 17,
   "metadata": {},
   "outputs": [],
   "source": [
    "# Training and validation set"
   ]
  },
  {
   "cell_type": "code",
   "execution_count": 18,
   "metadata": {},
   "outputs": [],
   "source": [
    "X_train, X_val, y_train, y_val = train_test_split(train, labels, test_size=0.3, random_state=41)\n",
    "#Reshaping the training and validation sets\n",
    "X_train = X_train.reshape(X_train.shape[0], 28,28,1)\n",
    "X_val = X_val.reshape(X_val.shape[0], 28,28,1)"
   ]
  },
  {
   "cell_type": "code",
   "execution_count": 19,
   "metadata": {},
   "outputs": [],
   "source": [
    "# Building CNN network"
   ]
  },
  {
   "cell_type": "code",
   "execution_count": 20,
   "metadata": {},
   "outputs": [
    {
     "name": "stdout",
     "output_type": "stream",
     "text": [
      "_________________________________________________________________\n",
      "Layer (type)                 Output Shape              Param #   \n",
      "=================================================================\n",
      "conv2d_1 (Conv2D)            (None, 26, 26, 8)         80        \n",
      "_________________________________________________________________\n",
      "max_pooling2d_1 (MaxPooling2 (None, 13, 13, 8)         0         \n",
      "_________________________________________________________________\n",
      "conv2d_2 (Conv2D)            (None, 11, 11, 16)        1168      \n",
      "_________________________________________________________________\n",
      "max_pooling2d_2 (MaxPooling2 (None, 5, 5, 16)          0         \n",
      "_________________________________________________________________\n",
      "flatten_1 (Flatten)          (None, 400)               0         \n",
      "_________________________________________________________________\n",
      "dense_1 (Dense)              (None, 128)               51328     \n",
      "_________________________________________________________________\n",
      "dropout_1 (Dropout)          (None, 128)               0         \n",
      "_________________________________________________________________\n",
      "dense_2 (Dense)              (None, 25)                3225      \n",
      "=================================================================\n",
      "Total params: 55,801\n",
      "Trainable params: 55,801\n",
      "Non-trainable params: 0\n",
      "_________________________________________________________________\n"
     ]
    }
   ],
   "source": [
    "#Building Our CNN\n",
    "model = Sequential()\n",
    "model.add(Conv2D(8, (3,3), input_shape=(28,28,1), activation='relu'))\n",
    "model.add(MaxPooling2D(pool_size=(2,2), strides=2))\n",
    "model.add(Conv2D(16, (3,3), activation='relu'))\n",
    "model.add(MaxPooling2D(pool_size=(2,2), strides=2))\n",
    "model.add(Flatten())\n",
    "model.add(Dense(128, activation='relu'))\n",
    "model.add(Dropout(0.4))\n",
    "model.add(Dense(25, activation='softmax'))\n",
    "\n",
    "model.summary()\n"
   ]
  },
  {
   "cell_type": "code",
   "execution_count": 21,
   "metadata": {},
   "outputs": [
    {
     "name": "stdout",
     "output_type": "stream",
     "text": [
      "Train on 19218 samples, validate on 8237 samples\n",
      "Epoch 1/50\n",
      "19218/19218 [==============================] - 6s 292us/step - loss: 3.1225 - acc: 0.1033 - val_loss: 2.8968 - val_acc: 0.2719\n",
      "Epoch 2/50\n",
      "19218/19218 [==============================] - 5s 283us/step - loss: 2.4901 - acc: 0.2934 - val_loss: 1.8532 - val_acc: 0.5600\n",
      "Epoch 3/50\n",
      "19218/19218 [==============================] - 5s 283us/step - loss: 1.7311 - acc: 0.4714 - val_loss: 1.2479 - val_acc: 0.7010\n",
      "Epoch 4/50\n",
      "19218/19218 [==============================] - 5s 275us/step - loss: 1.3240 - acc: 0.5839 - val_loss: 0.9537 - val_acc: 0.7493\n",
      "Epoch 5/50\n",
      "19218/19218 [==============================] - 5s 259us/step - loss: 1.0580 - acc: 0.6685 - val_loss: 0.7328 - val_acc: 0.7973\n",
      "Epoch 6/50\n",
      "19218/19218 [==============================] - 5s 284us/step - loss: 0.8936 - acc: 0.7160 - val_loss: 0.6162 - val_acc: 0.8270\n",
      "Epoch 7/50\n",
      "19218/19218 [==============================] - 6s 304us/step - loss: 0.7727 - acc: 0.7523 - val_loss: 0.5303 - val_acc: 0.8486\n",
      "Epoch 8/50\n",
      "19218/19218 [==============================] - 6s 308us/step - loss: 0.6825 - acc: 0.7812 - val_loss: 0.4448 - val_acc: 0.8828\n",
      "Epoch 9/50\n",
      "19218/19218 [==============================] - 6s 302us/step - loss: 0.6017 - acc: 0.8065 - val_loss: 0.3745 - val_acc: 0.8967\n",
      "Epoch 10/50\n",
      "19218/19218 [==============================] - 6s 312us/step - loss: 0.5323 - acc: 0.8279 - val_loss: 0.3213 - val_acc: 0.9162\n",
      "Epoch 11/50\n",
      "19218/19218 [==============================] - 6s 309us/step - loss: 0.4800 - acc: 0.8447 - val_loss: 0.2761 - val_acc: 0.9352\n",
      "Epoch 12/50\n",
      "19218/19218 [==============================] - 6s 295us/step - loss: 0.4257 - acc: 0.8621 - val_loss: 0.2377 - val_acc: 0.9428\n",
      "Epoch 13/50\n",
      "19218/19218 [==============================] - 6s 290us/step - loss: 0.3884 - acc: 0.8740 - val_loss: 0.2090 - val_acc: 0.9552\n",
      "Epoch 14/50\n",
      "19218/19218 [==============================] - 6s 332us/step - loss: 0.3582 - acc: 0.8848 - val_loss: 0.1742 - val_acc: 0.9659\n",
      "Epoch 15/50\n",
      "19218/19218 [==============================] - 7s 354us/step - loss: 0.3109 - acc: 0.9031 - val_loss: 0.1458 - val_acc: 0.9741\n",
      "Epoch 16/50\n",
      "19218/19218 [==============================] - 6s 291us/step - loss: 0.2847 - acc: 0.9116 - val_loss: 0.1248 - val_acc: 0.9828\n",
      "Epoch 17/50\n",
      "19218/19218 [==============================] - 6s 317us/step - loss: 0.2552 - acc: 0.9231 - val_loss: 0.1058 - val_acc: 0.9879\n",
      "Epoch 18/50\n",
      "19218/19218 [==============================] - 6s 337us/step - loss: 0.2332 - acc: 0.9289 - val_loss: 0.0968 - val_acc: 0.9851\n",
      "Epoch 19/50\n",
      "19218/19218 [==============================] - 6s 305us/step - loss: 0.2126 - acc: 0.9357 - val_loss: 0.0784 - val_acc: 0.9905\n",
      "Epoch 20/50\n",
      "19218/19218 [==============================] - 6s 320us/step - loss: 0.2001 - acc: 0.9397 - val_loss: 0.0690 - val_acc: 0.9909\n",
      "Epoch 21/50\n",
      "19218/19218 [==============================] - 6s 312us/step - loss: 0.1813 - acc: 0.9464 - val_loss: 0.0620 - val_acc: 0.9944\n",
      "Epoch 22/50\n",
      "19218/19218 [==============================] - 6s 295us/step - loss: 0.1627 - acc: 0.9535 - val_loss: 0.0483 - val_acc: 0.9959\n",
      "Epoch 23/50\n",
      "19218/19218 [==============================] - 6s 320us/step - loss: 0.1542 - acc: 0.9534 - val_loss: 0.0435 - val_acc: 0.9978\n",
      "Epoch 24/50\n",
      "19218/19218 [==============================] - 6s 306us/step - loss: 0.1424 - acc: 0.9577 - val_loss: 0.0378 - val_acc: 0.9978\n",
      "Epoch 25/50\n",
      "19218/19218 [==============================] - 5s 285us/step - loss: 0.1329 - acc: 0.9616 - val_loss: 0.0325 - val_acc: 0.9977\n",
      "Epoch 26/50\n",
      "19218/19218 [==============================] - 7s 339us/step - loss: 0.1205 - acc: 0.9656 - val_loss: 0.0298 - val_acc: 0.9992\n",
      "Epoch 27/50\n",
      "19218/19218 [==============================] - 7s 363us/step - loss: 0.1148 - acc: 0.9684 - val_loss: 0.0282 - val_acc: 0.9982\n",
      "Epoch 28/50\n",
      "19218/19218 [==============================] - 8s 393us/step - loss: 0.1072 - acc: 0.9698 - val_loss: 0.0220 - val_acc: 0.9995\n",
      "Epoch 29/50\n",
      "19218/19218 [==============================] - 7s 356us/step - loss: 0.1020 - acc: 0.9714 - val_loss: 0.0195 - val_acc: 0.9998\n",
      "Epoch 30/50\n",
      "19218/19218 [==============================] - 7s 364us/step - loss: 0.0950 - acc: 0.9737 - val_loss: 0.0171 - val_acc: 0.9996\n",
      "Epoch 31/50\n",
      "19218/19218 [==============================] - 7s 359us/step - loss: 0.0887 - acc: 0.9768 - val_loss: 0.0141 - val_acc: 0.9999\n",
      "Epoch 32/50\n",
      "19218/19218 [==============================] - 6s 331us/step - loss: 0.0888 - acc: 0.9744 - val_loss: 0.0142 - val_acc: 1.0000\n",
      "Epoch 33/50\n",
      "19218/19218 [==============================] - 6s 313us/step - loss: 0.0769 - acc: 0.9798 - val_loss: 0.0141 - val_acc: 0.9992\n",
      "Epoch 34/50\n",
      "19218/19218 [==============================] - 5s 286us/step - loss: 0.0732 - acc: 0.9814 - val_loss: 0.0106 - val_acc: 0.9999\n",
      "Epoch 35/50\n",
      "19218/19218 [==============================] - 5s 276us/step - loss: 0.0682 - acc: 0.9814 - val_loss: 0.0111 - val_acc: 0.9995\n",
      "Epoch 36/50\n",
      "19218/19218 [==============================] - 5s 282us/step - loss: 0.0633 - acc: 0.9837 - val_loss: 0.0091 - val_acc: 0.9999\n",
      "Epoch 37/50\n",
      "19218/19218 [==============================] - 6s 287us/step - loss: 0.0656 - acc: 0.9815 - val_loss: 0.0089 - val_acc: 0.9998\n",
      "Epoch 38/50\n",
      "19218/19218 [==============================] - 5s 280us/step - loss: 0.0636 - acc: 0.9817 - val_loss: 0.0088 - val_acc: 0.9995\n",
      "Epoch 39/50\n",
      "19218/19218 [==============================] - 5s 280us/step - loss: 0.0562 - acc: 0.9853 - val_loss: 0.0059 - val_acc: 1.0000\n",
      "Epoch 40/50\n",
      "19218/19218 [==============================] - 6s 291us/step - loss: 0.0550 - acc: 0.9859 - val_loss: 0.0066 - val_acc: 0.9999\n",
      "Epoch 41/50\n",
      "19218/19218 [==============================] - 6s 326us/step - loss: 0.0558 - acc: 0.9849 - val_loss: 0.0059 - val_acc: 1.0000\n",
      "Epoch 42/50\n",
      "19218/19218 [==============================] - 5s 281us/step - loss: 0.0516 - acc: 0.9864 - val_loss: 0.0047 - val_acc: 1.0000\n",
      "Epoch 43/50\n",
      "19218/19218 [==============================] - 6s 305us/step - loss: 0.0467 - acc: 0.9880 - val_loss: 0.0042 - val_acc: 1.0000\n",
      "Epoch 44/50\n",
      "19218/19218 [==============================] - 6s 306us/step - loss: 0.0472 - acc: 0.9868 - val_loss: 0.0043 - val_acc: 1.0000\n",
      "Epoch 45/50\n",
      "19218/19218 [==============================] - 6s 337us/step - loss: 0.0434 - acc: 0.9879 - val_loss: 0.0044 - val_acc: 0.9999\n",
      "Epoch 46/50\n",
      "19218/19218 [==============================] - 6s 313us/step - loss: 0.0449 - acc: 0.9871 - val_loss: 0.0038 - val_acc: 1.0000\n",
      "Epoch 47/50\n",
      "19218/19218 [==============================] - 6s 315us/step - loss: 0.0427 - acc: 0.9889 - val_loss: 0.0037 - val_acc: 1.0000\n",
      "Epoch 48/50\n",
      "19218/19218 [==============================] - 6s 314us/step - loss: 0.0414 - acc: 0.9879 - val_loss: 0.0033 - val_acc: 1.0000\n",
      "Epoch 49/50\n",
      "19218/19218 [==============================] - 5s 286us/step - loss: 0.0377 - acc: 0.9901 - val_loss: 0.0030 - val_acc: 0.9999\n",
      "Epoch 50/50\n",
      "19218/19218 [==============================] - 6s 302us/step - loss: 0.0381 - acc: 0.9889 - val_loss: 0.0026 - val_acc: 1.0000\n"
     ]
    }
   ],
   "source": [
    "model.compile(loss = 'categorical_crossentropy', \n",
    "optimizer='adam', metrics=['accuracy'])\n",
    "\n",
    "#Code for Training our Model\n",
    "history = model.fit(X_train, y_train, validation_data = \n",
    "(X_val, y_val), epochs=50, batch_size=512)"
   ]
  },
  {
   "cell_type": "code",
   "execution_count": 22,
   "metadata": {},
   "outputs": [
    {
     "data": {
      "image/png": "[encoded data removed]",
      "text/plain": [
       "<Figure size 432x288 with 1 Axes>"
      ]
     },
     "metadata": {},
     "output_type": "display_data"
    }
   ],
   "source": [
    "plt.plot(history.history['acc'])\n",
    "plt.plot(history.history['val_acc'])\n",
    "plt.title(\"Accuracy\")\n",
    "plt.xlabel('epoch')\n",
    "plt.ylabel('accuracy')\n",
    "plt.legend(['train','test'])\n",
    "plt.show()"
   ]
  },
  {
   "cell_type": "code",
   "execution_count": 23,
   "metadata": {},
   "outputs": [],
   "source": [
    "# Testing model"
   ]
  },
  {
   "cell_type": "code",
   "execution_count": 24,
   "metadata": {},
   "outputs": [
    {
     "name": "stdout",
     "output_type": "stream",
     "text": [
      "The test accuracy is:  0.9210819854991634\n"
     ]
    }
   ],
   "source": [
    "y_test = test.pop('label')\n",
    "y_test = to_categorical(y_test)\n",
    "y_test.shape\n",
    "X_test = test.values\n",
    "X_test = np.array([np.reshape(i, (28,28)) for i in X_test])\n",
    "X_test = X_test / 255\n",
    "X_test = X_test.reshape(X_test.shape[0], 28,28,1)\n",
    "X_test.shape\n",
    "\n",
    "#Recognizing images on the test dataset\n",
    "predictions = model.predict(X_test)\n",
    "test_accuracy = accuracy_score(np.argmax(y_test, axis=1), np.argmax(predictions, axis=1))\n",
    "print(\"The test accuracy is: \", test_accuracy)"
   ]
  },
  {
   "cell_type": "code",
   "execution_count": null,
   "metadata": {},
   "outputs": [],
   "source": [
    "# Accuracy of 92%\n",
    "\n",
    "# Happy learning"
   ]
  }
 ],
 "metadata": {
  "kernelspec": {
   "display_name": "Python 3",
   "language": "python",
   "name": "python3"
  },
  "language_info": {
   "codemirror_mode": {
    "name": "ipython",
    "version": 3
   },
   "file_extension": ".py",
   "mimetype": "text/x-python",
   "name": "python",
   "nbconvert_exporter": "python",
   "pygments_lexer": "ipython3",
   "version": "3.6.5"
  }
 },
 "nbformat": 4,
 "nbformat_minor": 2
}
